{
 "cells": [
  {
   "cell_type": "code",
   "execution_count": 5,
   "metadata": {
    "collapsed": false
   },
   "outputs": [
    {
     "name": "stdout",
     "output_type": "stream",
     "text": [
      "Imported  numpy 1.11.1\n",
      "Imported  scipy 0.18.1\n",
      "Imported  matplotlib 1.5.3\n",
      "Imported  seaborn 0.9.0\n",
      "Imported  pandas 0.18.1\n",
      "Imported  bokeh 0.12.2\n",
      "Imported  nose 1.3.7\n",
      "Imported  h5py 2.6.0\n",
      "Imported  pip 20.3.3\n"
     ]
    }
   ],
   "source": [
    "imports = ['numpy', 'scipy', 'matplotlib', 'seaborn', 'pandas', 'bokeh', 'nose', \n",
    "           'h5py', 'pip', ]\n",
    "modules = []\n",
    "for x in imports:\n",
    "    try:\n",
    "        modules.append(__import__(x))\n",
    "        print(\"Imported \", x, modules[-1].__version__)\n",
    "    except ImportError:\n",
    "        print(\"Error importing \", x, '.')"
   ]
  },
  {
   "cell_type": "code",
   "execution_count": 3,
   "metadata": {
    "collapsed": false
   },
   "outputs": [
    {
     "name": "stdout",
     "output_type": "stream",
     "text": [
      "Imported  sklearn 0.18\n",
      "Imported  nltk 3.2.1\n",
      "\t\t\t\tError importing  theano .\n",
      "\t\t\t\tError importing  tensorflow .\n",
      "\t\t\t\tError importing  keras .\n",
      "\t\t\t\tError importing  torch .\n",
      "\t\t\t\tError importing  mxnet .\n"
     ]
    }
   ],
   "source": [
    "imports = ['sklearn', 'nltk', 'theano', 'tensorflow', 'keras', 'torch', 'mxnet']\n",
    "modules = []\n",
    "for x in imports:\n",
    "    try:\n",
    "        modules.append(__import__(x))\n",
    "        print(\"Imported \", x, modules[-1].__version__)\n",
    "    except ImportError:\n",
    "        print(\"\\t\\t\\t\\tError importing \", x, '.')"
   ]
  },
  {
   "cell_type": "code",
   "execution_count": 4,
   "metadata": {
    "collapsed": false
   },
   "outputs": [
    {
     "data": {
      "text/plain": [
       "['__class__',\n",
       " '__contains__',\n",
       " '__delattr__',\n",
       " '__delitem__',\n",
       " '__dir__',\n",
       " '__doc__',\n",
       " '__eq__',\n",
       " '__format__',\n",
       " '__ge__',\n",
       " '__getattribute__',\n",
       " '__getitem__',\n",
       " '__gt__',\n",
       " '__hash__',\n",
       " '__init__',\n",
       " '__iter__',\n",
       " '__le__',\n",
       " '__len__',\n",
       " '__lt__',\n",
       " '__ne__',\n",
       " '__new__',\n",
       " '__reduce__',\n",
       " '__reduce_ex__',\n",
       " '__repr__',\n",
       " '__setattr__',\n",
       " '__setitem__',\n",
       " '__sizeof__',\n",
       " '__str__',\n",
       " '__subclasshook__',\n",
       " 'clear',\n",
       " 'copy',\n",
       " 'fromkeys',\n",
       " 'get',\n",
       " 'items',\n",
       " 'keys',\n",
       " 'pop',\n",
       " 'popitem',\n",
       " 'setdefault',\n",
       " 'update',\n",
       " 'values']"
      ]
     },
     "execution_count": 4,
     "metadata": {},
     "output_type": "execute_result"
    }
   ],
   "source": [
    "import tflearn\n",
    "dir(tflearn.__builtins__)"
   ]
  },
  {
   "cell_type": "code",
   "execution_count": 3,
   "metadata": {
    "collapsed": false
   },
   "outputs": [
    {
     "name": "stdout",
     "output_type": "stream",
     "text": [
      "Successfully imported  sys .\n",
      "<module 'sys' (built-in)>\n",
      "Successfully imported  datetime .\n",
      "<module 'datetime' from '/home/vagrant/anaconda/lib/python3.7/datetime.py'>\n",
      "Successfully imported  os .\n",
      "<module 'os' from '/home/vagrant/anaconda/lib/python3.7/os.py'>\n"
     ]
    }
   ],
   "source": [
    "imports = ['sys', 'datetime', 'os']\n",
    "modules = {}\n",
    "for x in imports:\n",
    "    try:\n",
    "        modules[x] = __import__(x)\n",
    "        print(\"Successfully imported \", x, '.')\n",
    "        print(modules[x])\n",
    "    except ImportError:\n",
    "        print(\"Error importing \", x, '.')"
   ]
  },
  {
   "cell_type": "code",
   "execution_count": 20,
   "metadata": {
    "collapsed": true
   },
   "outputs": [],
   "source": [
    "# from importlib.metadata import version\n",
    "# version('wheel')\n",
    "import importlib\n",
    "from importlib import import_module"
   ]
  },
  {
   "cell_type": "code",
   "execution_count": 21,
   "metadata": {
    "collapsed": true
   },
   "outputs": [],
   "source": [
    "# importlib.sys.version_info.major.real(\"wheel\")"
   ]
  },
  {
   "cell_type": "code",
   "execution_count": 22,
   "metadata": {
    "collapsed": true
   },
   "outputs": [],
   "source": [
    "from pip._vendor import pkg_resources\n",
    "\n",
    "def get_version(package):\n",
    "    package = package.lower()\n",
    "    return next((p.version for p in pkg_resources.working_set if p.project_name.lower() == package), \"No match\")\n"
   ]
  },
  {
   "cell_type": "code",
   "execution_count": 23,
   "metadata": {
    "collapsed": false
   },
   "outputs": [
    {
     "data": {
      "text/plain": [
       "'1.19.5'"
      ]
     },
     "execution_count": 23,
     "metadata": {},
     "output_type": "execute_result"
    }
   ],
   "source": [
    "get_version(\"numpy\")"
   ]
  },
  {
   "cell_type": "code",
   "execution_count": 24,
   "metadata": {
    "collapsed": false
   },
   "outputs": [
    {
     "data": {
      "text/plain": [
       "'No match'"
      ]
     },
     "execution_count": 24,
     "metadata": {},
     "output_type": "execute_result"
    }
   ],
   "source": [
    "get_version(\"sys\")\n",
    "get_version(\"sys\")"
   ]
  },
  {
   "cell_type": "code",
   "execution_count": 11,
   "metadata": {
    "collapsed": true
   },
   "outputs": [],
   "source": [
    "import jupyter"
   ]
  },
  {
   "cell_type": "code",
   "execution_count": 13,
   "metadata": {
    "collapsed": false,
    "scrolled": true
   },
   "outputs": [
    {
     "data": {
      "text/plain": [
       "['__add__',\n",
       " '__class__',\n",
       " '__contains__',\n",
       " '__delattr__',\n",
       " '__dir__',\n",
       " '__doc__',\n",
       " '__eq__',\n",
       " '__format__',\n",
       " '__ge__',\n",
       " '__getattribute__',\n",
       " '__getitem__',\n",
       " '__getnewargs__',\n",
       " '__gt__',\n",
       " '__hash__',\n",
       " '__init__',\n",
       " '__iter__',\n",
       " '__le__',\n",
       " '__len__',\n",
       " '__lt__',\n",
       " '__mod__',\n",
       " '__mul__',\n",
       " '__ne__',\n",
       " '__new__',\n",
       " '__reduce__',\n",
       " '__reduce_ex__',\n",
       " '__repr__',\n",
       " '__rmod__',\n",
       " '__rmul__',\n",
       " '__setattr__',\n",
       " '__sizeof__',\n",
       " '__str__',\n",
       " '__subclasshook__',\n",
       " 'capitalize',\n",
       " 'casefold',\n",
       " 'center',\n",
       " 'count',\n",
       " 'encode',\n",
       " 'endswith',\n",
       " 'expandtabs',\n",
       " 'find',\n",
       " 'format',\n",
       " 'format_map',\n",
       " 'index',\n",
       " 'isalnum',\n",
       " 'isalpha',\n",
       " 'isdecimal',\n",
       " 'isdigit',\n",
       " 'isidentifier',\n",
       " 'islower',\n",
       " 'isnumeric',\n",
       " 'isprintable',\n",
       " 'isspace',\n",
       " 'istitle',\n",
       " 'isupper',\n",
       " 'join',\n",
       " 'ljust',\n",
       " 'lower',\n",
       " 'lstrip',\n",
       " 'maketrans',\n",
       " 'partition',\n",
       " 'replace',\n",
       " 'rfind',\n",
       " 'rindex',\n",
       " 'rjust',\n",
       " 'rpartition',\n",
       " 'rsplit',\n",
       " 'rstrip',\n",
       " 'split',\n",
       " 'splitlines',\n",
       " 'startswith',\n",
       " 'strip',\n",
       " 'swapcase',\n",
       " 'title',\n",
       " 'translate',\n",
       " 'upper',\n",
       " 'zfill']"
      ]
     },
     "execution_count": 13,
     "metadata": {},
     "output_type": "execute_result"
    }
   ],
   "source": [
    "dir(jupyter.__doc__)"
   ]
  },
  {
   "cell_type": "code",
   "execution_count": 15,
   "metadata": {
    "collapsed": false
   },
   "outputs": [
    {
     "name": "stdout",
     "output_type": "stream",
     "text": [
      "jupyter                   1.0.0                    py35_3  \r\n",
      "jupyter_client            4.4.0                    py35_0  \r\n",
      "jupyter_console           5.0.0                    py35_0  \r\n",
      "jupyter_core              4.2.0                    py35_0  \r\n"
     ]
    }
   ],
   "source": [
    "!conda list | grep jupyter"
   ]
  },
  {
   "cell_type": "code",
   "execution_count": 16,
   "metadata": {
    "collapsed": false
   },
   "outputs": [
    {
     "name": "stdout",
     "output_type": "stream",
     "text": [
      "ipython                   5.1.0                    py35_0  \r\n",
      "ipython_genutils          0.1.0                    py35_0  \r\n"
     ]
    }
   ],
   "source": [
    "!conda list | grep ipython"
   ]
  },
  {
   "cell_type": "code",
   "execution_count": 32,
   "metadata": {
    "collapsed": false
   },
   "outputs": [
    {
     "ename": "ImportError",
     "evalue": "No module named 'qt'",
     "output_type": "error",
     "traceback": [
      "\u001b[0;31m---------------------------------------------------------------------------\u001b[0m",
      "\u001b[0;31mImportError\u001b[0m                               Traceback (most recent call last)",
      "\u001b[0;32m<ipython-input-32-1352616448f8>\u001b[0m in \u001b[0;36m<module>\u001b[0;34m()\u001b[0m\n\u001b[0;32m----> 1\u001b[0;31m \u001b[0;32mimport\u001b[0m \u001b[0mqt\u001b[0m\u001b[0;34m\u001b[0m\u001b[0m\n\u001b[0m",
      "\u001b[0;31mImportError\u001b[0m: No module named 'qt'"
     ]
    }
   ],
   "source": [
    "import qt"
   ]
  },
  {
   "cell_type": "code",
   "execution_count": 4,
   "metadata": {
    "collapsed": false
   },
   "outputs": [
    {
     "name": "stdout",
     "output_type": "stream",
     "text": [
      "Filesystem              Size  Used Avail Use% Mounted on\r\n",
      "udev                    2.0G   12K  2.0G   1% /dev\r\n",
      "tmpfs                   396M  352K  395M   1% /run\r\n",
      "/dev/sda1                40G  4.5G   34G  12% /\r\n",
      "none                    4.0K     0  4.0K   0% /sys/fs/cgroup\r\n",
      "none                    5.0M     0  5.0M   0% /run/lock\r\n",
      "none                    2.0G     0  2.0G   0% /run/shm\r\n",
      "none                    100M   12K  100M   1% /run/user\r\n",
      "vagrant                 216G  173G   44G  80% /vagrant\r\n",
      "home_vagrant_notebooks  216G  173G   44G  80% /home/vagrant/notebooks\r\n"
     ]
    }
   ],
   "source": [
    "!df -h"
   ]
  },
  {
   "cell_type": "code",
   "execution_count": 6,
   "metadata": {
    "collapsed": false
   },
   "outputs": [
    {
     "name": "stdout",
     "output_type": "stream",
     "text": [
      "# packages in environment at /home/vagrant/anaconda:\r\n",
      "#\r\n",
      "# Name                    Version                   Build  Channel\r\n",
      "_libgcc_mutex             0.1                        main  \r\n",
      "_license                  1.1                      py35_1  \r\n",
      "_nb_ext_conf              0.3.0                    py35_0  \r\n",
      "alabaster                 0.7.9                    py35_0  \r\n",
      "anaconda                  custom                   py35_0  \r\n",
      "anaconda-build            1.15.0                   py35_0  \r\n",
      "anaconda-clean            1.0.0                    py35_0  \r\n",
      "anaconda-client           1.6.3                    py35_0  \r\n",
      "anaconda-navigator        1.3.1                    py35_0  \r\n",
      "argcomplete               1.0.0                    py35_1  \r\n",
      "astroid                   1.4.7                    py35_0  \r\n",
      "astropy                   1.2.1               np111py35_0  \r\n",
      "babel                     2.3.4                    py35_0  \r\n",
      "backports                 1.0                      py35_0  \r\n",
      "beautifulsoup4            4.5.1                    py35_0  \r\n",
      "bitarray                  0.8.1                    py35_0  \r\n",
      "blas                      1.0                         mkl  \r\n",
      "blaze                     0.10.1                   py35_0  \r\n",
      "bokeh                     0.12.2                   py35_0  \r\n",
      "boto                      2.42.0                   py35_0  \r\n",
      "bottleneck                1.1.0               np111py35_0  \r\n",
      "ca-certificates           2020.12.8            h06a4308_0  \r\n",
      "cairo                     1.12.18                       6  \r\n",
      "cffi                      1.7.0                    py35_0  \r\n",
      "chardet                   3.0.4                    py35_0  \r\n",
      "chest                     0.2.3                    py35_0  \r\n",
      "click                     6.6                      py35_0  \r\n",
      "cloudpickle               0.2.1                    py35_0  \r\n",
      "clyent                    1.2.2                    py35_0  \r\n",
      "colorama                  0.3.7                    py35_0  \r\n",
      "conda                     4.5.11                   py35_0  \r\n",
      "conda-build               3.0.19           py35he3ba529_0  \r\n",
      "conda-env                 2.6.0                         1  \r\n",
      "conda-verify              2.0.0                    py35_0  \r\n",
      "configobj                 5.0.6                    py35_0  \r\n",
      "contextlib2               0.5.3                    py35_0  \r\n",
      "cryptography              1.5                      py35_0  \r\n",
      "curl                      7.49.0                        1  \r\n",
      "cycler                    0.10.0                   py35_0  \r\n",
      "cython                    0.24.1                   py35_0  \r\n",
      "cytoolz                   0.8.0                    py35_0  \r\n",
      "dask                      0.11.0                   py35_0  \r\n",
      "datashape                 0.5.2                    py35_0  \r\n",
      "dbus                      1.10.10                       0  \r\n",
      "decorator                 4.0.10                   py35_0  \r\n",
      "dill                      0.2.5                    py35_0  \r\n",
      "docutils                  0.12                     py35_2  \r\n",
      "dynd-python               0.7.2                    py35_0  \r\n",
      "entrypoints               0.2.2                    py35_0  \r\n",
      "et_xmlfile                1.0.1                    py35_0  \r\n",
      "expat                     2.1.0                         0  \r\n",
      "fastcache                 1.0.2                    py35_1  \r\n",
      "filelock                  2.0.6                    py35_0  \r\n",
      "flask                     0.11.1                   py35_0  \r\n",
      "flask-cors                2.1.2                    py35_0  \r\n",
      "fontconfig                2.11.1                        6  \r\n",
      "freetype                  2.5.5                         1  \r\n",
      "get_terminal_size         1.0.0                    py35_0  \r\n",
      "gevent                    1.1.2                    py35_0  \r\n",
      "glib                      2.43.0                        1  \r\n",
      "glob2                     0.5                      py35_0  \r\n",
      "greenlet                  0.4.10                   py35_0  \r\n",
      "gst-plugins-base          1.8.0                         0  \r\n",
      "gstreamer                 1.8.0                         0  \r\n",
      "h5py                      2.6.0               np111py35_2  \r\n",
      "harfbuzz                  0.9.39                        1  \r\n",
      "hdf5                      1.8.17                        1  \r\n",
      "heapdict                  1.0.0                    py35_1  \r\n",
      "icu                       54.1                          0  \r\n",
      "idna                      2.1                      py35_0  \r\n",
      "imagesize                 0.7.1                    py35_0  \r\n",
      "ipykernel                 4.5.0                    py35_0  \r\n",
      "ipython                   5.1.0                    py35_0  \r\n",
      "ipython_genutils          0.1.0                    py35_0  \r\n",
      "ipywidgets                5.2.2                    py35_0  \r\n",
      "itsdangerous              0.24                     py35_0  \r\n",
      "jbig                      2.1                           0  \r\n",
      "jdcal                     1.2                      py35_1  \r\n",
      "jedi                      0.9.0                    py35_1  \r\n",
      "jinja2                    2.8                      py35_1  \r\n",
      "jpeg                      8d                            2  \r\n",
      "jsonschema                2.5.1                    py35_0  \r\n",
      "jupyter                   1.0.0                    py35_3  \r\n",
      "jupyter_client            4.4.0                    py35_0  \r\n",
      "jupyter_console           5.0.0                    py35_0  \r\n",
      "jupyter_core              4.2.0                    py35_0  \r\n",
      "lazy-object-proxy         1.2.1                    py35_0  \r\n",
      "libdynd                   0.7.2                         0  \r\n",
      "libffi                    3.2.1                         0  \r\n",
      "libgcc                    7.2.0                h69d50b8_2  \r\n",
      "libgcc-ng                 9.1.0                hdf63c60_0  \r\n",
      "libgfortran               3.0.0                         1  \r\n",
      "libpng                    1.6.22                        0  \r\n",
      "libsodium                 1.0.10                        0  \r\n",
      "libstdcxx-ng              9.1.0                hdf63c60_0  \r\n",
      "libtiff                   4.0.6                         2  \r\n",
      "libxcb                    1.12                          0  \r\n",
      "libxml2                   2.9.2                         0  \r\n",
      "libxslt                   1.1.28                        0  \r\n",
      "llvmlite                  0.13.0                   py35_0  \r\n",
      "locket                    0.2.0                    py35_1  \r\n",
      "lxml                      3.6.4                    py35_0  \r\n",
      "markupsafe                0.23                     py35_2  \r\n",
      "matplotlib                1.5.3               np111py35_0  \r\n",
      "mistune                   0.7.3                    py35_0  \r\n",
      "mkl                       11.3.3                        0  \r\n",
      "mkl-service               1.1.2                    py35_2  \r\n",
      "mpmath                    0.19                     py35_1  \r\n",
      "multipledispatch          0.4.8                    py35_0  \r\n",
      "nb_anacondacloud          1.2.0                    py35_0  \r\n",
      "nb_conda                  2.0.0                    py35_0  \r\n",
      "nb_conda_kernels          2.0.0                    py35_0  \r\n",
      "nbconvert                 4.2.0                    py35_0  \r\n",
      "nbformat                  4.1.0                    py35_0  \r\n",
      "nbpresent                 3.0.2                    py35_0  \r\n",
      "networkx                  1.11                     py35_0  \r\n",
      "nltk                      3.2.1                    py35_0  \r\n",
      "nose                      1.3.7                    py35_1  \r\n",
      "notebook                  4.2.3                    py35_0  \r\n",
      "numba                     0.28.1              np111py35_0  \r\n",
      "numexpr                   2.6.1               np111py35_0  \r\n",
      "numpy                     1.11.1                   py35_0  \r\n",
      "odo                       0.5.0                    py35_1  \r\n",
      "openpyxl                  2.3.2                    py35_0  \r\n",
      "openssl                   1.0.2u               h7b6447c_0  \r\n",
      "pandas                    0.18.1              np111py35_0  \r\n",
      "partd                     0.3.6                    py35_0  \r\n",
      "patchelf                  0.9                           0  \r\n",
      "path.py                   8.2.1                    py35_0  \r\n",
      "pathlib2                  2.1.0                    py35_0  \r\n",
      "patsy                     0.4.1                    py35_0  \r\n",
      "pep8                      1.7.0                    py35_0  \r\n",
      "pexpect                   4.0.1                    py35_0  \r\n",
      "pickleshare               0.7.4                    py35_0  \r\n",
      "pillow                    3.3.1                    py35_0  \r\n",
      "pip                       8.1.2                    py35_0  \r\n",
      "pip                       20.3.3                    <pip>\r\n",
      "pixman                    0.32.6                        0  \r\n",
      "pkginfo                   1.3.2                    py35_0  \r\n",
      "ply                       3.9                      py35_0  \r\n",
      "prompt_toolkit            1.0.3                    py35_0  \r\n",
      "psutil                    4.3.1                    py35_0  \r\n",
      "ptyprocess                0.5.1                    py35_0  \r\n",
      "py                        1.4.31                   py35_0  \r\n",
      "pyasn1                    0.1.9                    py35_0  \r\n",
      "pycosat                   0.6.3            py35h14c3975_0  \r\n",
      "pycparser                 2.14                     py35_1  \r\n",
      "pycrypto                  2.6.1                    py35_4  \r\n",
      "pycurl                    7.43.0                   py35_0  \r\n",
      "pyflakes                  1.3.0                    py35_0  \r\n",
      "pygments                  2.1.3                    py35_0  \r\n",
      "pylint                    1.5.4                    py35_1  \r\n",
      "pyopenssl                 16.2.0                   py35_0  \r\n",
      "pyparsing                 2.1.4                    py35_0  \r\n",
      "pyqt                      5.6.0                    py35_0  \r\n",
      "pytables                  3.2.3.1             np111py35_0  \r\n",
      "pytest                    2.9.2                    py35_0  \r\n",
      "python                    3.5.2                         0  \r\n",
      "python-dateutil           2.5.3                    py35_0  \r\n",
      "pytz                      2016.6.1                 py35_0  \r\n",
      "pyyaml                    3.12                     py35_0  \r\n",
      "pyzmq                     15.4.0                   py35_0  \r\n",
      "qt                        5.6.0                         0  \r\n",
      "qtawesome                 0.3.3                    py35_0  \r\n",
      "qtconsole                 4.2.1                    py35_1  \r\n",
      "qtpy                      1.1.2                    py35_0  \r\n",
      "readline                  6.2                           2  \r\n",
      "redis                     3.2.0                         0  \r\n",
      "redis-py                  2.10.5                   py35_0  \r\n",
      "requests                  2.14.2                   py35_0  \r\n",
      "rope                      0.9.4                    py35_1  \r\n",
      "ruamel_yaml               0.11.14                  py35_0  \r\n",
      "scikit-image              0.12.3              np111py35_1  \r\n",
      "scikit-learn              0.18                np111py35_0  \r\n",
      "scipy                     0.18.1              np111py35_0  \r\n",
      "seaborn                   0.9.0              pyh91ea838_1  \r\n",
      "setuptools                27.2.0                   py35_0  \r\n",
      "simplegeneric             0.8.1                    py35_1  \r\n",
      "singledispatch            3.4.0.3                  py35_0  \r\n",
      "sip                       4.18                     py35_0  \r\n",
      "six                       1.10.0                   py35_0  \r\n",
      "snowballstemmer           1.2.1                    py35_0  \r\n",
      "sockjs-tornado            1.0.3                    py35_0  \r\n",
      "sphinx                    1.4.6                    py35_0  \r\n",
      "spyder                    3.0.0                    py35_0  \r\n",
      "sqlalchemy                1.0.13                   py35_0  \r\n",
      "sqlite                    3.13.0                        0  \r\n",
      "statsmodels               0.6.1               np111py35_1  \r\n",
      "sympy                     1.0                      py35_0  \r\n",
      "terminado                 0.6                      py35_0  \r\n",
      "tflearn                   0.2.1                     <pip>\r\n",
      "tk                        8.5.18                        0  \r\n",
      "toolz                     0.8.0                    py35_0  \r\n",
      "tornado                   4.4.1                    py35_0  \r\n",
      "traitlets                 4.3.0                    py35_0  \r\n",
      "unicodecsv                0.14.1                   py35_0  \r\n",
      "wcwidth                   0.1.7                    py35_0  \r\n",
      "werkzeug                  0.11.11                  py35_0  \r\n",
      "wheel                     0.29.0                   py35_0  \r\n",
      "widgetsnbextension        1.2.6                    py35_0  \r\n",
      "wrapt                     1.10.6                   py35_0  \r\n",
      "xlrd                      1.0.0                    py35_0  \r\n",
      "xlsxwriter                0.9.3                    py35_0  \r\n",
      "xlwt                      1.1.2                    py35_0  \r\n",
      "xz                        5.2.2                         0  \r\n",
      "yaml                      0.1.6                         0  \r\n",
      "zeromq                    4.1.4                         0  \r\n",
      "zlib                      1.2.8                         3  \r\n"
     ]
    }
   ],
   "source": [
    "! conda list"
   ]
  },
  {
   "cell_type": "code",
   "execution_count": null,
   "metadata": {
    "collapsed": true
   },
   "outputs": [],
   "source": []
  }
 ],
 "metadata": {
  "anaconda-cloud": {},
  "kernelspec": {
   "display_name": "Python 3",
   "language": "python",
   "name": "python3"
  },
  "language_info": {
   "codemirror_mode": {
    "name": "ipython",
    "version": 3
   },
   "file_extension": ".py",
   "mimetype": "text/x-python",
   "name": "python",
   "nbconvert_exporter": "python",
   "pygments_lexer": "ipython3",
   "version": "3.5.2"
  }
 },
 "nbformat": 4,
 "nbformat_minor": 4
}
