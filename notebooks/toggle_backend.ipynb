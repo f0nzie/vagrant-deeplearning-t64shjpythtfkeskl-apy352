{
 "cells": [
  {
   "cell_type": "markdown",
   "metadata": {},
   "source": [
    "Example showing how to programmatically toggle the Keras backend from Theano to Tensorflow and back to Theano."
   ]
  },
  {
   "cell_type": "code",
   "execution_count": 1,
   "metadata": {
    "collapsed": false
   },
   "outputs": [
    {
     "name": "stderr",
     "output_type": "stream",
     "text": [
      "Using TensorFlow backend.\n"
     ]
    }
   ],
   "source": [
    "import logging\n",
    "logging.basicConfig(format=\"%(asctime)s: %(message)s\", level=logging.INFO, datefmt=\"%H:%M:%S\")\n",
    "\n",
    "import numpy\n",
    "from keras.models import Sequential\n",
    "from keras.layers import Dense\n",
    "from utils import keras_backend_utils as kbu\n",
    "\n",
    "seed = 7\n",
    "numpy.random.seed(seed)"
   ]
  },
  {
   "cell_type": "code",
   "execution_count": 2,
   "metadata": {
    "collapsed": false
   },
   "outputs": [
    {
     "name": "stderr",
     "output_type": "stream",
     "text": [
      "00:41:55: Current backend : tensorflow\n",
      "00:41:55: Toggling the backend ...\n",
      "00:41:55: Keras version : 2.0.6\n",
      "00:41:55: Reading /root/.keras/keras.json ...\n",
      "00:41:55: Toggling from 'tensorflow' to 'theano'\n",
      "00:41:55: Writing to /root/.keras/keras.json ...\n",
      "Using Theano backend.\n"
     ]
    },
    {
     "name": "stdout",
     "output_type": "stream",
     "text": [
      "{'backend': 'tensorflow',\n",
      " 'epsilon': 1e-07,\n",
      " 'floatx': 'float32',\n",
      " 'image_data_format': 'channels_last'}\n"
     ]
    },
    {
     "name": "stderr",
     "output_type": "stream",
     "text": [
      "/home/vagrant/anaconda/lib/python3.5/site-packages/nose_parameterized/__init__.py:7: UserWarning: The 'nose-parameterized' package has been renamed 'parameterized'. For the two step migration instructions, see: https://github.com/wolever/parameterized#migrating-from-nose-parameterized-to-parameterized (set NOSE_PARAMETERIZED_NO_WARN=1 to suppress this warning)\n",
      "  \"The 'nose-parameterized' package has been renamed 'parameterized'. \"\n",
      "00:41:56: Current backend : theano\n"
     ]
    }
   ],
   "source": [
    "# do some work with Theano, \n",
    "from keras import backend as K\n",
    "logging.info(\"Current backend : {}\".format(K._BACKEND))\n",
    "logging.info(\"Toggling the backend ...\")\n",
    "\n",
    "#then toggle to using Tensorflow as a backend\n",
    "kbu.toggle_keras_backend()\n",
    "logging.info(\"Current backend : {}\".format(K._BACKEND))"
   ]
  },
  {
   "cell_type": "code",
   "execution_count": 3,
   "metadata": {
    "collapsed": false
   },
   "outputs": [
    {
     "name": "stderr",
     "output_type": "stream",
     "text": [
      "00:42:00: Toggling the backend the 2nd time ...\n",
      "00:42:00: Keras version : 2.0.6\n",
      "00:42:00: Reading /root/.keras/keras.json ...\n",
      "00:42:00: Toggling from 'theano' to 'tensorflow'\n",
      "00:42:00: Writing to /root/.keras/keras.json ...\n",
      "Using TensorFlow backend.\n",
      "00:42:00: Current backend : tensorflow\n"
     ]
    },
    {
     "name": "stdout",
     "output_type": "stream",
     "text": [
      "{'backend': 'theano',\n",
      " 'epsilon': 1e-07,\n",
      " 'floatx': 'float32',\n",
      " 'image_dim_ordering': 'th'}\n"
     ]
    }
   ],
   "source": [
    "# Toggle back to Theano\n",
    "logging.info(\"Toggling the backend the 2nd time ...\")\n",
    "kbu.toggle_keras_backend()\n",
    "logging.info(\"Current backend : {}\".format(K._BACKEND))"
   ]
  },
  {
   "cell_type": "code",
   "execution_count": null,
   "metadata": {
    "collapsed": true
   },
   "outputs": [],
   "source": []
  }
 ],
 "metadata": {
  "anaconda-cloud": {},
  "kernelspec": {
   "display_name": "Python 3",
   "language": "python",
   "name": "python3"
  },
  "language_info": {
   "codemirror_mode": {
    "name": "ipython",
    "version": 3
   },
   "file_extension": ".py",
   "mimetype": "text/x-python",
   "name": "python",
   "nbconvert_exporter": "python",
   "pygments_lexer": "ipython3",
   "version": "3.5.2"
  }
 },
 "nbformat": 4,
 "nbformat_minor": 1
}
